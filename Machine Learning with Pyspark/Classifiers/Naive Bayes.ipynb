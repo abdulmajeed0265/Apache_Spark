{
 "cells": [
  {
   "cell_type": "markdown",
   "metadata": {},
   "source": [
    "### Naive Bayes\n",
    "###### Naive Bayes classifiers are family of of simple probablistic, multiclass classifiers based on applying Bayes' theorem with strong (naive) independent assumptions between every pair of features.\n",
    "\n",
    "###### Naive Bayes can be trained very efficiently. With a single pass over the training data, it computes the conditional probability distribution of each feature given label. For prediction, it applies Bayes' theorem to compute the conditional probablity distribution of each label given an observation. "
   ]
  },
  {
   "cell_type": "code",
   "execution_count": 3,
   "metadata": {},
   "outputs": [],
   "source": [
    "from pyspark.sql import SparkSession\n",
    "from pyspark.ml.classification import NaiveBayes\n",
    "from pyspark.ml.evaluation import MulticlassClassificationEvaluator"
   ]
  },
  {
   "cell_type": "code",
   "execution_count": 4,
   "metadata": {},
   "outputs": [
    {
     "name": "stdout",
     "output_type": "stream",
     "text": [
      "+-----------+-------+-------------+-------------+-------+----+------------------------+---+-------+\n",
      "|Pregnancies|Glucose|BloodPressure|SkinThickness|Insulin| BMI|DiabetesPedigreeFunction|Age|Outcome|\n",
      "+-----------+-------+-------------+-------------+-------+----+------------------------+---+-------+\n",
      "|          6|    148|           72|           35|      0|33.6|                   0.627| 50|      1|\n",
      "|          1|     85|           66|           29|      0|26.6|                   0.351| 31|      0|\n",
      "|          8|    183|           64|            0|      0|23.3|                   0.672| 32|      1|\n",
      "|          1|     89|           66|           23|     94|28.1|                   0.167| 21|      0|\n",
      "|          0|    137|           40|           35|    168|43.1|                   2.288| 33|      1|\n",
      "|          5|    116|           74|            0|      0|25.6|                   0.201| 30|      0|\n",
      "|          3|     78|           50|           32|     88|31.0|                   0.248| 26|      1|\n",
      "|         10|    115|            0|            0|      0|35.3|                   0.134| 29|      0|\n",
      "|          2|    197|           70|           45|    543|30.5|                   0.158| 53|      1|\n",
      "|          8|    125|           96|            0|      0| 0.0|                   0.232| 54|      1|\n",
      "|          4|    110|           92|            0|      0|37.6|                   0.191| 30|      0|\n",
      "|         10|    168|           74|            0|      0|38.0|                   0.537| 34|      1|\n",
      "|         10|    139|           80|            0|      0|27.1|                   1.441| 57|      0|\n",
      "|          1|    189|           60|           23|    846|30.1|                   0.398| 59|      1|\n",
      "|          5|    166|           72|           19|    175|25.8|                   0.587| 51|      1|\n",
      "|          7|    100|            0|            0|      0|30.0|                   0.484| 32|      1|\n",
      "|          0|    118|           84|           47|    230|45.8|                   0.551| 31|      1|\n",
      "|          7|    107|           74|            0|      0|29.6|                   0.254| 31|      1|\n",
      "|          1|    103|           30|           38|     83|43.3|                   0.183| 33|      0|\n",
      "|          1|    115|           70|           30|     96|34.6|                   0.529| 32|      1|\n",
      "+-----------+-------+-------------+-------------+-------+----+------------------------+---+-------+\n",
      "only showing top 20 rows\n",
      "\n"
     ]
    }
   ],
   "source": [
    "spark = SparkSession.builder.appName(\"Naive Bayes\").getOrCreate()\n",
    "data = spark.read.csv(\"Data\\diabetes.csv\", header = True, inferSchema = True)\n",
    "data.show()"
   ]
  },
  {
   "cell_type": "code",
   "execution_count": 5,
   "metadata": {},
   "outputs": [
    {
     "data": {
      "text/plain": [
       "['Pregnancies',\n",
       " 'Glucose',\n",
       " 'BloodPressure',\n",
       " 'SkinThickness',\n",
       " 'Insulin',\n",
       " 'BMI',\n",
       " 'DiabetesPedigreeFunction',\n",
       " 'Age',\n",
       " 'Outcome']"
      ]
     },
     "execution_count": 5,
     "metadata": {},
     "output_type": "execute_result"
    }
   ],
   "source": [
    "data.columns"
   ]
  },
  {
   "cell_type": "code",
   "execution_count": 6,
   "metadata": {},
   "outputs": [
    {
     "name": "stdout",
     "output_type": "stream",
     "text": [
      "+-----------+-------+-------------+-------------+-------+----+------------------------+---+-------+--------------------+\n",
      "|Pregnancies|Glucose|BloodPressure|SkinThickness|Insulin| BMI|DiabetesPedigreeFunction|Age|Outcome|            features|\n",
      "+-----------+-------+-------------+-------------+-------+----+------------------------+---+-------+--------------------+\n",
      "|          6|    148|           72|           35|      0|33.6|                   0.627| 50|      1|[6.0,148.0,72.0,3...|\n",
      "|          1|     85|           66|           29|      0|26.6|                   0.351| 31|      0|[1.0,85.0,66.0,29...|\n",
      "|          8|    183|           64|            0|      0|23.3|                   0.672| 32|      1|[8.0,183.0,64.0,0...|\n",
      "|          1|     89|           66|           23|     94|28.1|                   0.167| 21|      0|[1.0,89.0,66.0,23...|\n",
      "|          0|    137|           40|           35|    168|43.1|                   2.288| 33|      1|[0.0,137.0,40.0,3...|\n",
      "|          5|    116|           74|            0|      0|25.6|                   0.201| 30|      0|[5.0,116.0,74.0,0...|\n",
      "|          3|     78|           50|           32|     88|31.0|                   0.248| 26|      1|[3.0,78.0,50.0,32...|\n",
      "|         10|    115|            0|            0|      0|35.3|                   0.134| 29|      0|[10.0,115.0,0.0,0...|\n",
      "|          2|    197|           70|           45|    543|30.5|                   0.158| 53|      1|[2.0,197.0,70.0,4...|\n",
      "|          8|    125|           96|            0|      0| 0.0|                   0.232| 54|      1|[8.0,125.0,96.0,0...|\n",
      "|          4|    110|           92|            0|      0|37.6|                   0.191| 30|      0|[4.0,110.0,92.0,0...|\n",
      "|         10|    168|           74|            0|      0|38.0|                   0.537| 34|      1|[10.0,168.0,74.0,...|\n",
      "|         10|    139|           80|            0|      0|27.1|                   1.441| 57|      0|[10.0,139.0,80.0,...|\n",
      "|          1|    189|           60|           23|    846|30.1|                   0.398| 59|      1|[1.0,189.0,60.0,2...|\n",
      "|          5|    166|           72|           19|    175|25.8|                   0.587| 51|      1|[5.0,166.0,72.0,1...|\n",
      "|          7|    100|            0|            0|      0|30.0|                   0.484| 32|      1|[7.0,100.0,0.0,0....|\n",
      "|          0|    118|           84|           47|    230|45.8|                   0.551| 31|      1|[0.0,118.0,84.0,4...|\n",
      "|          7|    107|           74|            0|      0|29.6|                   0.254| 31|      1|[7.0,107.0,74.0,0...|\n",
      "|          1|    103|           30|           38|     83|43.3|                   0.183| 33|      0|[1.0,103.0,30.0,3...|\n",
      "|          1|    115|           70|           30|     96|34.6|                   0.529| 32|      1|[1.0,115.0,70.0,3...|\n",
      "+-----------+-------+-------------+-------------+-------+----+------------------------+---+-------+--------------------+\n",
      "only showing top 20 rows\n",
      "\n"
     ]
    }
   ],
   "source": [
    "#Feature Assembler\n",
    "from pyspark.ml.feature import VectorAssembler\n",
    "featureassembler = VectorAssembler(inputCols = ['Pregnancies',\n",
    "                                                'Glucose',\n",
    "                                                'BloodPressure',\n",
    "                                                'SkinThickness',\n",
    "                                                'Insulin',\n",
    "                                                'BMI',\n",
    "                                                'DiabetesPedigreeFunction',\n",
    "                                                'Age',], outputCol = \"features\")\n",
    "\n",
    "output = featureassembler.transform(data)\n",
    "output.show()"
   ]
  },
  {
   "cell_type": "code",
   "execution_count": 7,
   "metadata": {},
   "outputs": [],
   "source": [
    "#Split the dataset\n",
    "(train, test) = output.randomSplit([0.6, 0.4], 12345)"
   ]
  },
  {
   "cell_type": "code",
   "execution_count": 8,
   "metadata": {},
   "outputs": [],
   "source": [
    "#Create the trainer\n",
    "nb = NaiveBayes(featuresCol = \"features\", labelCol = \"Outcome\",smoothing = 1.0, modelType = \"multinomial\")"
   ]
  },
  {
   "cell_type": "code",
   "execution_count": 9,
   "metadata": {},
   "outputs": [],
   "source": [
    "#Train the model\n",
    "model = nb.fit(train)"
   ]
  },
  {
   "cell_type": "code",
   "execution_count": 11,
   "metadata": {},
   "outputs": [
    {
     "name": "stdout",
     "output_type": "stream",
     "text": [
      "+----------+--------------------+-------+\n",
      "|prediction|            features|Outcome|\n",
      "+----------+--------------------+-------+\n",
      "|       0.0|[0.0,84.0,64.0,22...|      0|\n",
      "|       1.0|[0.0,84.0,82.0,31...|      0|\n",
      "|       0.0|(8,[1,6,7],[94.0,...|      0|\n",
      "|       1.0|[0.0,95.0,64.0,39...|      0|\n",
      "|       0.0|[0.0,95.0,85.0,25...|      1|\n",
      "|       0.0|[0.0,100.0,70.0,2...|      0|\n",
      "|       0.0|[0.0,101.0,64.0,1...|      0|\n",
      "|       0.0|[0.0,101.0,65.0,2...|      0|\n",
      "|       0.0|[0.0,102.0,75.0,2...|      0|\n",
      "|       0.0|[0.0,104.0,76.0,0...|      0|\n",
      "|       0.0|[0.0,105.0,68.0,2...|      0|\n",
      "|       1.0|[0.0,106.0,70.0,3...|      0|\n",
      "|       0.0|[0.0,107.0,60.0,2...|      0|\n",
      "|       0.0|[0.0,111.0,65.0,0...|      0|\n",
      "|       0.0|[0.0,113.0,80.0,1...|      0|\n",
      "|       1.0|[0.0,117.0,66.0,3...|      0|\n",
      "|       1.0|[0.0,118.0,64.0,2...|      0|\n",
      "|       0.0|[0.0,125.0,68.0,0...|      0|\n",
      "|       1.0|[0.0,127.0,80.0,3...|      0|\n",
      "|       0.0|[0.0,131.0,66.0,4...|      1|\n",
      "+----------+--------------------+-------+\n",
      "only showing top 20 rows\n",
      "\n"
     ]
    }
   ],
   "source": [
    "#Select example rows to display\n",
    "predictions = model.transform(test)\n",
    "predictions.select(\"prediction\", \"features\", \"Outcome\").show()"
   ]
  },
  {
   "cell_type": "code",
   "execution_count": 13,
   "metadata": {},
   "outputs": [
    {
     "name": "stdout",
     "output_type": "stream",
     "text": [
      "+-----------+-------+-------------+-------------+-------+----+------------------------+-------+----------+\n",
      "|Pregnancies|Glucose|BloodPressure|SkinThickness|Insulin| BMI|DiabetesPedigreeFunction|Outcome|prediction|\n",
      "+-----------+-------+-------------+-------------+-------+----+------------------------+-------+----------+\n",
      "|          0|     84|           64|           22|     66|35.8|                   0.545|      0|       0.0|\n",
      "|          0|     84|           82|           31|    125|38.2|                   0.233|      0|       1.0|\n",
      "|          0|     94|            0|            0|      0| 0.0|                   0.256|      0|       0.0|\n",
      "|          0|     95|           64|           39|    105|44.6|                   0.366|      0|       1.0|\n",
      "|          0|     95|           85|           25|     36|37.4|                   0.247|      1|       0.0|\n",
      "|          0|    100|           70|           26|     50|30.8|                   0.597|      0|       0.0|\n",
      "|          0|    101|           64|           17|      0|21.0|                   0.252|      0|       0.0|\n",
      "|          0|    101|           65|           28|      0|24.6|                   0.237|      0|       0.0|\n",
      "|          0|    102|           75|           23|      0| 0.0|                   0.572|      0|       0.0|\n",
      "|          0|    104|           76|            0|      0|18.4|                   0.582|      0|       0.0|\n",
      "|          0|    105|           68|           22|      0|20.0|                   0.236|      0|       0.0|\n",
      "|          0|    106|           70|           37|    148|39.4|                   0.605|      0|       1.0|\n",
      "|          0|    107|           60|           25|      0|26.4|                   0.133|      0|       0.0|\n",
      "|          0|    111|           65|            0|      0|24.6|                    0.66|      0|       0.0|\n",
      "|          0|    113|           80|           16|      0|31.0|                   0.874|      0|       0.0|\n",
      "|          0|    117|           66|           31|    188|30.8|                   0.493|      0|       1.0|\n",
      "|          0|    118|           64|           23|     89| 0.0|                   1.731|      0|       1.0|\n",
      "|          0|    125|           68|            0|      0|24.7|                   0.206|      0|       0.0|\n",
      "|          0|    127|           80|           37|    210|36.3|                   0.804|      0|       1.0|\n",
      "|          0|    131|           66|           40|      0|34.3|                   0.196|      1|       0.0|\n",
      "+-----------+-------+-------------+-------------+-------+----+------------------------+-------+----------+\n",
      "only showing top 20 rows\n",
      "\n"
     ]
    }
   ],
   "source": [
    "predictions.select('Pregnancies','Glucose','BloodPressure','SkinThickness','Insulin','BMI','DiabetesPedigreeFunction', 'Outcome', 'prediction').show()"
   ]
  },
  {
   "cell_type": "code",
   "execution_count": 14,
   "metadata": {},
   "outputs": [
    {
     "name": "stdout",
     "output_type": "stream",
     "text": [
      "Test set accuracy = 0.5896551724137931\n"
     ]
    }
   ],
   "source": [
    "#Compute accuracy ob the test set\n",
    "evaluator = MulticlassClassificationEvaluator(labelCol = \"Outcome\", predictionCol = \"prediction\", metricName = \"accuracy\")\n",
    "\n",
    "accuracy = evaluator.evaluate(predictions)\n",
    "print(\"Test set accuracy = \" + str(accuracy))"
   ]
  },
  {
   "cell_type": "code",
   "execution_count": null,
   "metadata": {},
   "outputs": [],
   "source": []
  }
 ],
 "metadata": {
  "kernelspec": {
   "display_name": "Python 3.8.8 ('base')",
   "language": "python",
   "name": "python3"
  },
  "language_info": {
   "codemirror_mode": {
    "name": "ipython",
    "version": 3
   },
   "file_extension": ".py",
   "mimetype": "text/x-python",
   "name": "python",
   "nbconvert_exporter": "python",
   "pygments_lexer": "ipython3",
   "version": "3.8.8"
  },
  "orig_nbformat": 4,
  "vscode": {
   "interpreter": {
    "hash": "628797e2199d5443b496a95e8e0b31a4169d065bfd469583647f4ca67435a64c"
   }
  }
 },
 "nbformat": 4,
 "nbformat_minor": 2
}
