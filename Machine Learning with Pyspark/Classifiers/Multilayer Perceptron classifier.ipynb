{
 "cells": [
  {
   "attachments": {},
   "cell_type": "markdown",
   "metadata": {},
   "source": [
    "### Multilayer Perceptron Classifier\n",
    "* Multilayer perceptron classifier (MLPC) is a classifier based on the FeedForward Artififcial Neural Network. MLPC consist of multiple layers of nodes. Each layer is fully connected to the next layer in the network. Nodes in the input layer represent the input data. All other nodes map inputs to outputs by a linear combination of the inputs with the node's weight w and bias b and applying an activation function. This can be written in matrix form for MLPC with k + 1 layers. The number of nodes in the output layer corresponds to the number of classes. MLPC employs backpropagation for learning the model. We use the logsitic loss function for optimization."
   ]
  },
  {
   "cell_type": "code",
   "execution_count": null,
   "metadata": {},
   "outputs": [],
   "source": [
    "from pyspark.ml.classification import MultilayerPerceptronClassifier\n",
    "from pyspark.sql import SparkSession\n",
    "from pyspark.ml.evaluation import MulticlassClassificationEvaluator"
   ]
  },
  {
   "cell_type": "code",
   "execution_count": null,
   "metadata": {},
   "outputs": [],
   "source": [
    "spark = SparkSession.builder.appName(\"Multilayer Perceptron classifier\").getOrCreate()\n",
    "data = spark.read.csv(\"Data/loan_data.csv\", header=True, inferSchema=True)\n",
    "data.show()"
   ]
  },
  {
   "cell_type": "code",
   "execution_count": null,
   "metadata": {},
   "outputs": [],
   "source": [
    "data.columns"
   ]
  },
  {
   "cell_type": "code",
   "execution_count": null,
   "metadata": {},
   "outputs": [],
   "source": [
    "data = data.drop(\"purpose\")\n",
    "data.show()"
   ]
  },
  {
   "cell_type": "code",
   "execution_count": null,
   "metadata": {},
   "outputs": [],
   "source": [
    "#Feature assembler\n",
    "from pyspark.ml.feature import VectorAssembler\n",
    "featureassembler = VectorAssembler(inputCols = ['credit_policy',\n",
    "                                                    'int_rate',\n",
    "                                                    'installment',\n",
    "                                                    'log_annual_inc',\n",
    "                                                    'dti',\n",
    "                                                    'fico',\n",
    "                                                    'days_with_cr_line',\n",
    "                                                    'revol_bal',\n",
    "                                                    'revol_util',\n",
    "                                                    'inq_last_6mths',\n",
    "                                                    'delinq_2yrs',\n",
    "                                                    'pub_rec'], outputCol = 'features')\n",
    "\n",
    "output = featureassembler.transform(data)\n",
    "output.show()"
   ]
  },
  {
   "cell_type": "code",
   "execution_count": null,
   "metadata": {},
   "outputs": [],
   "source": [
    "finalized_data = output.select(\"features\", \"not_fully_paid\")\n",
    "finalized_data.show()"
   ]
  },
  {
   "cell_type": "code",
   "execution_count": null,
   "metadata": {},
   "outputs": [],
   "source": [
    "train, test = finalized_data.randomSplit([0.6, 0.4], 1234)\n",
    "#Specify layers for the nueral network:\n",
    "#input layer of size 4 (features), two intermediate of size 5 and 4 and output size 3 (classes)\n",
    "layers = [2, 5, 4, 2]"
   ]
  },
  {
   "attachments": {},
   "cell_type": "markdown",
   "metadata": {},
   "source": [
    "* Model Training"
   ]
  },
  {
   "cell_type": "code",
   "execution_count": null,
   "metadata": {},
   "outputs": [],
   "source": [
    "trainer = MultilayerPerceptronClassifier(featuresCol = \"features\", labelCol = \"not_fully_paid\",maxIter = 100, layers = layers, blockSize = 128, seed = 1234)"
   ]
  },
  {
   "cell_type": "code",
   "execution_count": null,
   "metadata": {},
   "outputs": [],
   "source": [
    "model = trainer.fit(train)"
   ]
  },
  {
   "cell_type": "code",
   "execution_count": null,
   "metadata": {},
   "outputs": [],
   "source": [
    "#Compute accuracy on the test set\n",
    "result = model.transform(test)"
   ]
  },
  {
   "cell_type": "code",
   "execution_count": null,
   "metadata": {},
   "outputs": [],
   "source": [
    "result.show()"
   ]
  },
  {
   "attachments": {},
   "cell_type": "markdown",
   "metadata": {},
   "source": [
    "* Model Evaluations"
   ]
  },
  {
   "cell_type": "code",
   "execution_count": null,
   "metadata": {},
   "outputs": [],
   "source": [
    "MulticlassClassificationEvaluator()"
   ]
  },
  {
   "cell_type": "code",
   "execution_count": null,
   "metadata": {},
   "outputs": [],
   "source": [
    "#Model Evaluations\n",
    "predictionAndLabels = result.select(\"prediction\", \"not_fully_paid\")\n",
    "evaluator = MulticlassClassificationEvaluator(labelCol =\"not_fully_paid\" ,metricName=\"accuracy\")"
   ]
  },
  {
   "cell_type": "code",
   "execution_count": null,
   "metadata": {},
   "outputs": [],
   "source": [
    "print(\"Test set Accuracy = \" + {str(evaluator.evaluate(predictionAndLabels))})"
   ]
  }
 ],
 "metadata": {
  "kernelspec": {
   "display_name": "Python 3.8.8 ('base')",
   "language": "python",
   "name": "python3"
  },
  "language_info": {
   "codemirror_mode": {
    "name": "ipython",
    "version": 3
   },
   "file_extension": ".py",
   "mimetype": "text/x-python",
   "name": "python",
   "nbconvert_exporter": "python",
   "pygments_lexer": "ipython3",
   "version": "3.8.8"
  },
  "orig_nbformat": 4,
  "vscode": {
   "interpreter": {
    "hash": "628797e2199d5443b496a95e8e0b31a4169d065bfd469583647f4ca67435a64c"
   }
  }
 },
 "nbformat": 4,
 "nbformat_minor": 2
}
