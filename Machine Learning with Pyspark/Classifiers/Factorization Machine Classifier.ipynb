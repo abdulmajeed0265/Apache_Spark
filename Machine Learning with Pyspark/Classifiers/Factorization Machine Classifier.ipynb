{
 "cells": [
  {
   "cell_type": "markdown",
   "metadata": {},
   "source": [
    "### Factorization Machines classifier"
   ]
  },
  {
   "cell_type": "code",
   "execution_count": null,
   "metadata": {},
   "outputs": [],
   "source": [
    "#importing relevant libraries\n",
    "from pyspark.sql import SparkSession\n",
    "from pyspark.ml.classification import FMClassifier\n",
    "from pyspark.ml.feature import MinMaxScaler, StringIndexer\n",
    "from pyspark.ml.evaluation import MulticlassClassificationEvaluator"
   ]
  },
  {
   "cell_type": "code",
   "execution_count": null,
   "metadata": {},
   "outputs": [],
   "source": [
    "#Creating sesion and loading data\n",
    "spark = SparkSession.builder.appName(\"Factorization Machine classifier\").getOrCreate()\n",
    "data = spark.read.csv(\"Data\\iris.csv\", header = True, inferSchema = True)\n",
    "data.show()"
   ]
  },
  {
   "cell_type": "code",
   "execution_count": null,
   "metadata": {},
   "outputs": [],
   "source": [
    "data.columns"
   ]
  },
  {
   "cell_type": "code",
   "execution_count": null,
   "metadata": {},
   "outputs": [],
   "source": [
    "#ML libraries \n",
    "from pyspark.ml import Pipeline\n",
    "from pyspark.ml.feature import VectorAssembler\n",
    "featureasembler = VectorAssembler(inputCols = ['sepal_length', 'sepal_width', 'petal_length', 'petal_width'], outputCol = 'features')\n",
    "output = featureasembler.transform(data)\n",
    "output.show()\n"
   ]
  },
  {
   "cell_type": "code",
   "execution_count": null,
   "metadata": {},
   "outputs": [],
   "source": [
    "from pyspark.ml.feature import StringIndexer\n",
    "\n",
    "labelIndexer = StringIndexer(inputCol = \"class\", outputCol = \"indexedLabel\").fit(output)\n",
    "#Scale Features\n",
    "featuresScaler = MinMaxScaler(inputCol = \"features\", outputCol = \"scaledFeatures\").fit(output)"
   ]
  },
  {
   "cell_type": "code",
   "execution_count": null,
   "metadata": {},
   "outputs": [],
   "source": [
    "#Split the Data\n",
    "train, test = output.randomSplit([0.6, 0.2], 1234)\n",
    "print(\"Train Dataset: \", + train.count())\n",
    "print(\"Test Dataset: \", + test.count())"
   ]
  },
  {
   "cell_type": "code",
   "execution_count": null,
   "metadata": {},
   "outputs": [],
   "source": [
    "#Create pipeline\n",
    "fm = FMClassifier(labelCol = \"indexedLabel\", featuresCol = \"scaledFeatures\", stepSize = 0.001)\n",
    "pipeline =Pipeline(stages = [labelIndexer, featuresScaler, fm])"
   ]
  },
  {
   "cell_type": "code",
   "execution_count": null,
   "metadata": {},
   "outputs": [],
   "source": [
    "#train Model\n",
    "model = pipeline.fit(train)"
   ]
  },
  {
   "cell_type": "code",
   "execution_count": null,
   "metadata": {},
   "outputs": [],
   "source": [
    "#Prediction\n",
    "predictions = model.transform(test)"
   ]
  },
  {
   "cell_type": "code",
   "execution_count": null,
   "metadata": {},
   "outputs": [],
   "source": [
    "predictions.select(\"prediction\", \"indexedLabel\", \"features\").show(10)"
   ]
  },
  {
   "cell_type": "code",
   "execution_count": null,
   "metadata": {},
   "outputs": [],
   "source": [
    "#Evaluate model\n",
    "evaluator = MulticlassClassificationEvaluator(labelCol = \"indexedLabel\", predictionCol = \"prediction\", metric = \"accuracy\")\n",
    "accuracy = evaluator.evaluate(predictions)\n",
    "print(\"Accuracy: \", str(accuracy))"
   ]
  },
  {
   "cell_type": "code",
   "execution_count": null,
   "metadata": {},
   "outputs": [],
   "source": [
    "#Print Relevant summary\n",
    "fmModel = model.summary\n",
    "print(\"Factor: \", + str(fmModel.factors))\n",
    "print(\"Linear: \", str(fmModel.linear))\n",
    "print(\"Intercept: \", str(fmModel.intercept))"
   ]
  }
 ],
 "metadata": {
  "kernelspec": {
   "display_name": "base",
   "language": "python",
   "name": "python3"
  },
  "language_info": {
   "codemirror_mode": {
    "name": "ipython",
    "version": 3
   },
   "file_extension": ".py",
   "mimetype": "text/x-python",
   "name": "python",
   "nbconvert_exporter": "python",
   "pygments_lexer": "ipython3",
   "version": "3.8.8 (default, Apr 13 2021, 15:08:03) [MSC v.1916 64 bit (AMD64)]"
  },
  "orig_nbformat": 4,
  "vscode": {
   "interpreter": {
    "hash": "a3d1f5a40e83e699fa9d98d411f8d9f4af992d6222f178debd8b0cd072f22c83"
   }
  }
 },
 "nbformat": 4,
 "nbformat_minor": 2
}
