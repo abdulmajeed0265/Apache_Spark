{
 "cells": [
  {
   "cell_type": "code",
   "execution_count": 1,
   "metadata": {},
   "outputs": [],
   "source": [
    "from pyspark.sql import SparkSession\n",
    "from pyspark.ml.classification import LogisticRegression"
   ]
  },
  {
   "cell_type": "code",
   "execution_count": 2,
   "metadata": {},
   "outputs": [
    {
     "data": {
      "text/html": [
       "\n",
       "            <div>\n",
       "                <p><b>SparkSession - in-memory</b></p>\n",
       "                \n",
       "        <div>\n",
       "            <p><b>SparkContext</b></p>\n",
       "\n",
       "            <p><a href=\"http://DESKTOP-9GP2V4A:4041\">Spark UI</a></p>\n",
       "\n",
       "            <dl>\n",
       "              <dt>Version</dt>\n",
       "                <dd><code>v3.2.1</code></dd>\n",
       "              <dt>Master</dt>\n",
       "                <dd><code>local[*]</code></dd>\n",
       "              <dt>AppName</dt>\n",
       "                <dd><code>Logistic Regression</code></dd>\n",
       "            </dl>\n",
       "        </div>\n",
       "        \n",
       "            </div>\n",
       "        "
      ],
      "text/plain": [
       "<pyspark.sql.session.SparkSession at 0x1f0dcef6e20>"
      ]
     },
     "execution_count": 2,
     "metadata": {},
     "output_type": "execute_result"
    }
   ],
   "source": [
    "spark = SparkSession.builder.appName('Logistic Regression').getOrCreate()\n",
    "spark"
   ]
  },
  {
   "cell_type": "code",
   "execution_count": 3,
   "metadata": {},
   "outputs": [
    {
     "name": "stdout",
     "output_type": "stream",
     "text": [
      "root\n",
      " |-- credit_policy: integer (nullable = true)\n",
      " |-- purpose: string (nullable = true)\n",
      " |-- int_rate: double (nullable = true)\n",
      " |-- installment: double (nullable = true)\n",
      " |-- log_annual_inc: double (nullable = true)\n",
      " |-- dti: double (nullable = true)\n",
      " |-- fico: integer (nullable = true)\n",
      " |-- days_with_cr_line: double (nullable = true)\n",
      " |-- revol_bal: integer (nullable = true)\n",
      " |-- revol_util: double (nullable = true)\n",
      " |-- inq_last_6mths: integer (nullable = true)\n",
      " |-- delinq_2yrs: integer (nullable = true)\n",
      " |-- pub_rec: integer (nullable = true)\n",
      " |-- not_fully_paid: integer (nullable = true)\n",
      "\n"
     ]
    }
   ],
   "source": [
    "training = spark.read.csv(\"Data\\loan_data.csv\", header = True, inferSchema = True)\n",
    "training.printSchema()\n"
   ]
  },
  {
   "cell_type": "code",
   "execution_count": 4,
   "metadata": {},
   "outputs": [
    {
     "data": {
      "text/plain": [
       "[Row(credit_policy=1, purpose='debt_consolidation', int_rate=0.1189, installment=829.1, log_annual_inc=11.35040654, dti=19.48, fico=737, days_with_cr_line=5639.958333, revol_bal=28854, revol_util=52.1, inq_last_6mths=0, delinq_2yrs=0, pub_rec=0, not_fully_paid=0),\n",
       " Row(credit_policy=1, purpose='credit_card', int_rate=0.1071, installment=228.22, log_annual_inc=11.08214255, dti=14.29, fico=707, days_with_cr_line=2760.0, revol_bal=33623, revol_util=76.7, inq_last_6mths=0, delinq_2yrs=0, pub_rec=0, not_fully_paid=0),\n",
       " Row(credit_policy=1, purpose='debt_consolidation', int_rate=0.1357, installment=366.86, log_annual_inc=10.37349118, dti=11.63, fico=682, days_with_cr_line=4710.0, revol_bal=3511, revol_util=25.6, inq_last_6mths=1, delinq_2yrs=0, pub_rec=0, not_fully_paid=0)]"
      ]
     },
     "execution_count": 4,
     "metadata": {},
     "output_type": "execute_result"
    }
   ],
   "source": [
    "training.head(3)"
   ]
  },
  {
   "cell_type": "code",
   "execution_count": 5,
   "metadata": {},
   "outputs": [
    {
     "name": "stdout",
     "output_type": "stream",
     "text": [
      "+-------------+--------+-----------+--------------+-----+----+-----------------+---------+----------+--------------+-----------+-------+--------------+\n",
      "|credit_policy|int_rate|installment|log_annual_inc|  dti|fico|days_with_cr_line|revol_bal|revol_util|inq_last_6mths|delinq_2yrs|pub_rec|not_fully_paid|\n",
      "+-------------+--------+-----------+--------------+-----+----+-----------------+---------+----------+--------------+-----------+-------+--------------+\n",
      "|            1|  0.1189|      829.1|   11.35040654|19.48| 737|      5639.958333|    28854|      52.1|             0|          0|      0|             0|\n",
      "|            1|  0.1071|     228.22|   11.08214255|14.29| 707|           2760.0|    33623|      76.7|             0|          0|      0|             0|\n",
      "|            1|  0.1357|     366.86|   10.37349118|11.63| 682|           4710.0|     3511|      25.6|             1|          0|      0|             0|\n",
      "|            1|  0.1008|     162.34|   11.35040654|  8.1| 712|      2699.958333|    33667|      73.2|             1|          0|      0|             0|\n",
      "|            1|  0.1426|     102.92|   11.29973224|14.97| 667|           4066.0|     4740|      39.5|             0|          1|      0|             0|\n",
      "|            1|  0.0788|     125.13|   11.90496755|16.98| 727|      6120.041667|    50807|      51.0|             0|          0|      0|             0|\n",
      "|            1|  0.1496|     194.02|   10.71441777|  4.0| 667|      3180.041667|     3839|      76.8|             0|          0|      1|             1|\n",
      "|            1|  0.1114|     131.22|   11.00209984|11.08| 722|           5116.0|    24220|      68.6|             0|          0|      0|             1|\n",
      "|            1|  0.1134|      87.19|   11.40756495|17.25| 682|           3989.0|    69909|      51.1|             1|          0|      0|             0|\n",
      "|            1|  0.1221|      84.12|   10.20359214| 10.0| 707|      2730.041667|     5630|      23.0|             1|          0|      0|             0|\n",
      "|            1|  0.1347|     360.43|    10.4341158|22.09| 677|      6713.041667|    13846|      71.0|             2|          0|      1|             0|\n",
      "|            1|  0.1324|     253.58|   11.83500896| 9.16| 662|           4298.0|     5122|      18.2|             2|          1|      0|             0|\n",
      "|            1|  0.0859|     316.11|   10.93310697|15.49| 767|      6519.958333|     6068|      16.7|             0|          0|      0|             0|\n",
      "|            1|  0.0714|      92.82|   11.51292546|  6.5| 747|           4384.0|     3021|       4.8|             0|          1|      0|             0|\n",
      "|            1|  0.0863|     209.54|   9.487972109| 9.73| 727|      1559.958333|     6282|      44.6|             0|          0|      0|             0|\n",
      "|            1|  0.1103|     327.53|   10.73891524|13.04| 702|      8159.958333|     5394|      53.4|             1|          0|      0|             0|\n",
      "|            1|  0.1317|      77.69|   10.52277288| 2.26| 672|      3895.958333|     2211|      88.4|             0|          0|      0|             0|\n",
      "|            1|  0.0894|     476.58|   11.60823564| 7.07| 797|      6510.958333|     7586|      52.7|             1|          0|      0|             0|\n",
      "|            1|  0.1039|     584.12|   10.49127422|  3.8| 712|           2760.0|     8311|      59.8|             0|          0|      0|             0|\n",
      "|            1|  0.1513|     173.65|   11.00209984| 2.74| 667|      1126.958333|      591|      84.4|             3|          0|      0|             0|\n",
      "+-------------+--------+-----------+--------------+-----+----+-----------------+---------+----------+--------------+-----------+-------+--------------+\n",
      "only showing top 20 rows\n",
      "\n"
     ]
    }
   ],
   "source": [
    "data = training.drop(\"purpose\")\n",
    "data.show()"
   ]
  },
  {
   "cell_type": "code",
   "execution_count": 6,
   "metadata": {},
   "outputs": [
    {
     "data": {
      "text/plain": [
       "['credit_policy',\n",
       " 'int_rate',\n",
       " 'installment',\n",
       " 'log_annual_inc',\n",
       " 'dti',\n",
       " 'fico',\n",
       " 'days_with_cr_line',\n",
       " 'revol_bal',\n",
       " 'revol_util',\n",
       " 'inq_last_6mths',\n",
       " 'delinq_2yrs',\n",
       " 'pub_rec',\n",
       " 'not_fully_paid']"
      ]
     },
     "execution_count": 6,
     "metadata": {},
     "output_type": "execute_result"
    }
   ],
   "source": [
    "data.columns"
   ]
  },
  {
   "cell_type": "code",
   "execution_count": 34,
   "metadata": {},
   "outputs": [],
   "source": [
    "from pyspark.ml.feature import VectorAssembler\n",
    "featureassembler = VectorAssembler(inputCols=['credit_policy',\n",
    "                                              'int_rate',\n",
    "                                              'installment',\n",
    "                                              'log_annual_inc',\n",
    "                                              'dti',\n",
    "                                              'fico',\n",
    "                                              'days_with_cr_line',\n",
    "                                              'revol_bal',\n",
    "                                              'revol_util',\n",
    "                                              'inq_last_6mths',\n",
    "                                              'delinq_2yrs',\n",
    "                                              'pub_rec'], outputCol='features')\n"
   ]
  },
  {
   "cell_type": "code",
   "execution_count": 35,
   "metadata": {},
   "outputs": [
    {
     "name": "stdout",
     "output_type": "stream",
     "text": [
      "+-------------+--------+-----------+--------------+-----+----+-----------------+---------+----------+--------------+-----------+-------+--------------+--------------------+\n",
      "|credit_policy|int_rate|installment|log_annual_inc|  dti|fico|days_with_cr_line|revol_bal|revol_util|inq_last_6mths|delinq_2yrs|pub_rec|not_fully_paid|            features|\n",
      "+-------------+--------+-----------+--------------+-----+----+-----------------+---------+----------+--------------+-----------+-------+--------------+--------------------+\n",
      "|            1|  0.1189|      829.1|   11.35040654|19.48| 737|      5639.958333|    28854|      52.1|             0|          0|      0|             0|[1.0,0.1189,829.1...|\n",
      "|            1|  0.1071|     228.22|   11.08214255|14.29| 707|           2760.0|    33623|      76.7|             0|          0|      0|             0|[1.0,0.1071,228.2...|\n",
      "|            1|  0.1357|     366.86|   10.37349118|11.63| 682|           4710.0|     3511|      25.6|             1|          0|      0|             0|[1.0,0.1357,366.8...|\n",
      "|            1|  0.1008|     162.34|   11.35040654|  8.1| 712|      2699.958333|    33667|      73.2|             1|          0|      0|             0|[1.0,0.1008,162.3...|\n",
      "|            1|  0.1426|     102.92|   11.29973224|14.97| 667|           4066.0|     4740|      39.5|             0|          1|      0|             0|[1.0,0.1426,102.9...|\n",
      "|            1|  0.0788|     125.13|   11.90496755|16.98| 727|      6120.041667|    50807|      51.0|             0|          0|      0|             0|[1.0,0.0788,125.1...|\n",
      "|            1|  0.1496|     194.02|   10.71441777|  4.0| 667|      3180.041667|     3839|      76.8|             0|          0|      1|             1|[1.0,0.1496,194.0...|\n",
      "|            1|  0.1114|     131.22|   11.00209984|11.08| 722|           5116.0|    24220|      68.6|             0|          0|      0|             1|[1.0,0.1114,131.2...|\n",
      "|            1|  0.1134|      87.19|   11.40756495|17.25| 682|           3989.0|    69909|      51.1|             1|          0|      0|             0|[1.0,0.1134,87.19...|\n",
      "|            1|  0.1221|      84.12|   10.20359214| 10.0| 707|      2730.041667|     5630|      23.0|             1|          0|      0|             0|[1.0,0.1221,84.12...|\n",
      "|            1|  0.1347|     360.43|    10.4341158|22.09| 677|      6713.041667|    13846|      71.0|             2|          0|      1|             0|[1.0,0.1347,360.4...|\n",
      "|            1|  0.1324|     253.58|   11.83500896| 9.16| 662|           4298.0|     5122|      18.2|             2|          1|      0|             0|[1.0,0.1324,253.5...|\n",
      "|            1|  0.0859|     316.11|   10.93310697|15.49| 767|      6519.958333|     6068|      16.7|             0|          0|      0|             0|[1.0,0.0859,316.1...|\n",
      "|            1|  0.0714|      92.82|   11.51292546|  6.5| 747|           4384.0|     3021|       4.8|             0|          1|      0|             0|[1.0,0.0714,92.82...|\n",
      "|            1|  0.0863|     209.54|   9.487972109| 9.73| 727|      1559.958333|     6282|      44.6|             0|          0|      0|             0|[1.0,0.0863,209.5...|\n",
      "|            1|  0.1103|     327.53|   10.73891524|13.04| 702|      8159.958333|     5394|      53.4|             1|          0|      0|             0|[1.0,0.1103,327.5...|\n",
      "|            1|  0.1317|      77.69|   10.52277288| 2.26| 672|      3895.958333|     2211|      88.4|             0|          0|      0|             0|[1.0,0.1317,77.69...|\n",
      "|            1|  0.0894|     476.58|   11.60823564| 7.07| 797|      6510.958333|     7586|      52.7|             1|          0|      0|             0|[1.0,0.0894,476.5...|\n",
      "|            1|  0.1039|     584.12|   10.49127422|  3.8| 712|           2760.0|     8311|      59.8|             0|          0|      0|             0|[1.0,0.1039,584.1...|\n",
      "|            1|  0.1513|     173.65|   11.00209984| 2.74| 667|      1126.958333|      591|      84.4|             3|          0|      0|             0|[1.0,0.1513,173.6...|\n",
      "+-------------+--------+-----------+--------------+-----+----+-----------------+---------+----------+--------------+-----------+-------+--------------+--------------------+\n",
      "only showing top 20 rows\n",
      "\n"
     ]
    }
   ],
   "source": [
    "output = featureassembler.transform(data)\n",
    "output.show()"
   ]
  },
  {
   "cell_type": "code",
   "execution_count": 40,
   "metadata": {},
   "outputs": [
    {
     "name": "stdout",
     "output_type": "stream",
     "text": [
      "+--------------------+--------------+\n",
      "|            features|not_fully_paid|\n",
      "+--------------------+--------------+\n",
      "|[1.0,0.1189,829.1...|             0|\n",
      "|[1.0,0.1071,228.2...|             0|\n",
      "|[1.0,0.1357,366.8...|             0|\n",
      "|[1.0,0.1008,162.3...|             0|\n",
      "|[1.0,0.1426,102.9...|             0|\n",
      "|[1.0,0.0788,125.1...|             0|\n",
      "|[1.0,0.1496,194.0...|             1|\n",
      "|[1.0,0.1114,131.2...|             1|\n",
      "|[1.0,0.1134,87.19...|             0|\n",
      "|[1.0,0.1221,84.12...|             0|\n",
      "|[1.0,0.1347,360.4...|             0|\n",
      "|[1.0,0.1324,253.5...|             0|\n",
      "|[1.0,0.0859,316.1...|             0|\n",
      "|[1.0,0.0714,92.82...|             0|\n",
      "|[1.0,0.0863,209.5...|             0|\n",
      "|[1.0,0.1103,327.5...|             0|\n",
      "|[1.0,0.1317,77.69...|             0|\n",
      "|[1.0,0.0894,476.5...|             0|\n",
      "|[1.0,0.1039,584.1...|             0|\n",
      "|[1.0,0.1513,173.6...|             0|\n",
      "+--------------------+--------------+\n",
      "only showing top 20 rows\n",
      "\n"
     ]
    }
   ],
   "source": [
    "#Feature Selection\n",
    "finalized_data = output.select(\"features\", \"not_fully_paid\")\n",
    "finalized_data.show()"
   ]
  },
  {
   "cell_type": "code",
   "execution_count": 42,
   "metadata": {},
   "outputs": [],
   "source": [
    "train, test = finalized_data.randomSplit([0.7, 0.3], 12345)"
   ]
  },
  {
   "cell_type": "code",
   "execution_count": 44,
   "metadata": {},
   "outputs": [],
   "source": [
    "lr = LogisticRegression(featuresCol=\"features\", labelCol = \"not_fully_paid\" , maxIter=10,regParam=0.3, elasticNetParam=0.8)\n",
    "LogisticRegression()\n",
    "\n",
    "#fit the model\n",
    "lrModel = lr.fit(train)\n"
   ]
  },
  {
   "cell_type": "code",
   "execution_count": 45,
   "metadata": {},
   "outputs": [
    {
     "name": "stdout",
     "output_type": "stream",
     "text": [
      "Coefficients: (12,[],[])\n",
      "Intercept: -1.637456012683671\n"
     ]
    }
   ],
   "source": [
    "#Print the coefficients and intercept\n",
    "print(\"Coefficients: \" + {str(lrModel.coefficients)})\n",
    "print(\"Intercept: \" + {str(lrModel.intercept)})"
   ]
  },
  {
   "cell_type": "markdown",
   "metadata": {},
   "source": [
    "### Logistic Summary"
   ]
  },
  {
   "cell_type": "code",
   "execution_count": 50,
   "metadata": {},
   "outputs": [],
   "source": [
    "#Extract the summary from the returned LogisticRegressionModel\n",
    "trainingSummary = lrModel.summary"
   ]
  },
  {
   "cell_type": "code",
   "execution_count": 51,
   "metadata": {},
   "outputs": [
    {
     "name": "stdout",
     "output_type": "stream",
     "text": [
      "ObjectiveHistory\n",
      "0.4443027529093511\n"
     ]
    }
   ],
   "source": [
    "#Obtain the Objective per iteration\n",
    "objectiveHistory = trainingSummary.objectiveHistory\n",
    "print(\"ObjectiveHistory\")\n",
    "for objective in objectiveHistory:\n",
    "    print(objective)"
   ]
  },
  {
   "cell_type": "code",
   "execution_count": 52,
   "metadata": {},
   "outputs": [
    {
     "name": "stderr",
     "output_type": "stream",
     "text": [
      "c:\\Users\\Abdul Majeed Ahmed\\Anaconda3\\lib\\site-packages\\pyspark\\sql\\context.py:125: FutureWarning: Deprecated in 3.0.0. Use SparkSession.builder.getOrCreate() instead.\n",
      "  warnings.warn(\n"
     ]
    },
    {
     "name": "stdout",
     "output_type": "stream",
     "text": [
      "+---+---+\n",
      "|FPR|TPR|\n",
      "+---+---+\n",
      "|0.0|0.0|\n",
      "|1.0|1.0|\n",
      "|1.0|1.0|\n",
      "+---+---+\n",
      "\n",
      "areaUnderROC: 0.5\n"
     ]
    }
   ],
   "source": [
    "#Obtain the reciever-operating characteristics as a Dataframe and areaUnderROC\n",
    "trainingSummary.roc.show()\n",
    "print(f\"areaUnderROC: {str(trainingSummary.areaUnderROC)}\")"
   ]
  }
 ],
 "metadata": {
  "kernelspec": {
   "display_name": "base",
   "language": "python",
   "name": "python3"
  },
  "language_info": {
   "codemirror_mode": {
    "name": "ipython",
    "version": 3
   },
   "file_extension": ".py",
   "mimetype": "text/x-python",
   "name": "python",
   "nbconvert_exporter": "python",
   "pygments_lexer": "ipython3",
   "version": "3.8.8 (default, Apr 13 2021, 15:08:03) [MSC v.1916 64 bit (AMD64)]"
  },
  "orig_nbformat": 4,
  "vscode": {
   "interpreter": {
    "hash": "a3d1f5a40e83e699fa9d98d411f8d9f4af992d6222f178debd8b0cd072f22c83"
   }
  }
 },
 "nbformat": 4,
 "nbformat_minor": 2
}
