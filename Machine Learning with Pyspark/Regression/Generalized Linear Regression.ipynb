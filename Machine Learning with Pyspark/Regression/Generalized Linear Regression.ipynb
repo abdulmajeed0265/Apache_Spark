{
 "cells": [
  {
   "cell_type": "markdown",
   "metadata": {},
   "source": [
    "### Generalized Linear Regression\n",
    "##### Contrasted with linear regression where the output is assumed to follow a Gaussian distribution, generalized linear models (GLMs) are specifications of linear models where the response variable Y, follows some distribution from the exponential family of distributions. Spark's GeneralizedLinearRegression interface allows for flexible specification of GLMs which can be used for various types of predictions problems including linear regression, Poisson regression, logistic regression and others. Currently in sparks.ml, only a subset of the exponential family distributions are supported. <b>Note:</b> Spark currently only supports upto 4096 features through GeneralizedLinearRegression interface and will throw an exception if the constraint is exceeded. \n",
    "\n",
    "<table>\n",
    "    <tr>\n",
    "        <th>Family</th>\n",
    "        <th>Response Type</th>\n",
    "        <th>Supported Links</th>\n",
    "    </tr>\n",
    "    <tr>\n",
    "        <td>Gaussian</td>\n",
    "        <td>Continous</td>\n",
    "        <td>Identity*, Log, Inverse</td>\n",
    "    </tr>\n",
    "    <tr>\n",
    "        <td>Binomial</td>\n",
    "        <td>Binary</td>\n",
    "        <td>Logit*, Probit, CLogLog</td>\n",
    "    </tr>\n",
    "    <tr>\n",
    "        <td>Poisson</td>\n",
    "        <td>Count</td>\n",
    "        <td>Log*, identity, Sqrt</td>\n",
    "    </tr>\n",
    "        <tr>\n",
    "        <td>Gamma</td>\n",
    "        <td>Continuous</td>\n",
    "        <td>Inverse*, Identity, Log</td>\n",
    "    </tr>\n",
    "        <tr>\n",
    "        <td>Tweedie</td>\n",
    "        <td>Zero-inflated continous</td>\n",
    "        <td>Power link function</td>\n",
    "    </tr>\n",
    "</table>\n"
   ]
  },
  {
   "cell_type": "code",
   "execution_count": null,
   "metadata": {},
   "outputs": [],
   "source": [
    "from pyspark.sql import SparkSession\n",
    "from pyspark.ml.regression import GeneralizedLinearRegression"
   ]
  },
  {
   "cell_type": "code",
   "execution_count": null,
   "metadata": {},
   "outputs": [],
   "source": [
    "spark = SparkSession.builder.appName(\"Generalized Linear Regression\").getOrCreate()\n",
    "data = spark.read.csv(\"Data/Car_Sales.csv\", header = True, inferSchema = True)\n",
    "data.show()"
   ]
  },
  {
   "cell_type": "code",
   "execution_count": null,
   "metadata": {},
   "outputs": [],
   "source": [
    "data.printSchema()"
   ]
  },
  {
   "cell_type": "code",
   "execution_count": null,
   "metadata": {},
   "outputs": [],
   "source": [
    "from pyspark.sql.functions import udf, col\n",
    "from pyspark.sql.types import IntegerType\n",
    "\n",
    "\n",
    "def OneHotEncoding(df, col_name=\"\"):\n",
    "    ###Gather the distinct values\n",
    "    distinct_values = list(df.select(col_name).distinct().toPandas()[col_name])\n",
    "    # for each of the gathered values create a new column\n",
    "#For Body\n",
    "    for distinct_value in distinct_values:\n",
    "        function = udf(lambda item: 1 if item ==\n",
    "                       distinct_value else 0, IntegerType())\n",
    "        new_column_name = col_name+'_'+distinct_value\n",
    "        df = df.withColumn(new_column_name, function(col(col_name)))\n",
    "\n",
    "    return df\n"
   ]
  },
  {
   "cell_type": "code",
   "execution_count": null,
   "metadata": {},
   "outputs": [],
   "source": [
    "data.columns"
   ]
  },
  {
   "cell_type": "code",
   "execution_count": null,
   "metadata": {},
   "outputs": [],
   "source": [
    "#Creating dummies for the columns with categorical values\n",
    "cols = ['Brand', 'Body', 'Engine Type', 'Registration']\n",
    "\n",
    "for item in cols:\n",
    "    data = OneHotEncoding(data, col_name = item)"
   ]
  },
  {
   "cell_type": "code",
   "execution_count": null,
   "metadata": {},
   "outputs": [],
   "source": [
    "data.columns"
   ]
  },
  {
   "cell_type": "code",
   "execution_count": null,
   "metadata": {},
   "outputs": [],
   "source": [
    "data = data.drop(\"Model\")"
   ]
  },
  {
   "cell_type": "code",
   "execution_count": null,
   "metadata": {},
   "outputs": [],
   "source": [
    "#Changing data types to int\n",
    "data = data.withColumn(\"Price\", data['Price'].cast('double'))\n",
    "data = data.withColumn(\"EngineV\", data['EngineV'].cast('double'))\n",
    "data.printSchema()"
   ]
  },
  {
   "cell_type": "code",
   "execution_count": null,
   "metadata": {},
   "outputs": [],
   "source": [
    "#Dropping unwanted columns\n",
    "cols = ['Brand', 'Body', 'Engine Type', 'Registration']\n",
    "for item in cols:\n",
    "    data = data.drop(item)\n",
    "\n",
    "data.columns"
   ]
  },
  {
   "cell_type": "code",
   "execution_count": null,
   "metadata": {},
   "outputs": [],
   "source": [
    "data.printSchema()"
   ]
  },
  {
   "cell_type": "code",
   "execution_count": null,
   "metadata": {},
   "outputs": [],
   "source": [
    "data.columns"
   ]
  },
  {
   "cell_type": "code",
   "execution_count": null,
   "metadata": {},
   "outputs": [],
   "source": [
    "#Feature assembler\n",
    "from pyspark.ml.feature import VectorAssembler\n",
    "featureassembler = VectorAssembler(inputCols = ['Mileage',\n",
    "                                                'EngineV',\n",
    "                                                'Year',\n",
    "                                                'Brand_Volkswagen',\n",
    "                                                'Brand_Mitsubishi',\n",
    "                                                'Brand_Audi',\n",
    "                                                'Brand_Mercedes-Benz',\n",
    "                                                'Brand_Renault',\n",
    "                                                'Brand_BMW',\n",
    "                                                'Brand_Toyota',\n",
    "                                                'Body_van',\n",
    "                                                'Body_crossover',\n",
    "                                                'Body_other',\n",
    "                                                'Body_sedan',\n",
    "                                                'Body_hatch',\n",
    "                                                'Body_vagon',\n",
    "                                                'Engine Type_Diesel',\n",
    "                                                'Engine Type_Other',\n",
    "                                                'Engine Type_Gas',\n",
    "                                                'Engine Type_Petrol',\n",
    "                                                'Registration_no',\n",
    "                                                'Registration_yes'], outputCol = 'features')\n",
    "finalized_data = featureassembler.transform(data)\n",
    "finalized_data.columns"
   ]
  },
  {
   "cell_type": "code",
   "execution_count": null,
   "metadata": {},
   "outputs": [],
   "source": [
    "#Selecting feature for training with labels\n",
    "finalized_data = finalized_data.select(\"features\", \"Price\")\n",
    "finalized_data.columns"
   ]
  },
  {
   "cell_type": "code",
   "execution_count": 19,
   "metadata": {},
   "outputs": [],
   "source": [
    "#Splitting data\n",
    "(train, test) = finalized_data.randomSplit([0.7, 0.3], 102)"
   ]
  },
  {
   "cell_type": "code",
   "execution_count": null,
   "metadata": {},
   "outputs": [],
   "source": [
    "#Model Training\n",
    "glr = GeneralizedLinearRegression(featuresCol = \"features\", labelCol = \"Price\",family = \"gaussian\", link = \"identity\", maxIter = 10, regParam = 0.3)\n",
    "model = glr.fit(train)"
   ]
  },
  {
   "cell_type": "code",
   "execution_count": null,
   "metadata": {},
   "outputs": [],
   "source": [
    "# Intecept and Coefficients\n",
    "print(f\"Coefficients: {str(model.coefficients)}\")\n",
    "print(f\"Intercept: {str(model.intercept)}\")"
   ]
  },
  {
   "cell_type": "code",
   "execution_count": null,
   "metadata": {},
   "outputs": [],
   "source": [
    "#summary\n",
    "summary = model.summary\n",
    "print(f\"Coefficient Standard Errors: {str(summary.coefficientstandardErrors)}\")\n",
    "print(f\"r Values: {str(summary.tvalues)}\")\n",
    "print(f\"p values: {str(summary.pvalues)}\")\n",
    "print(f\"Dispersion: {str(summary.dispersion)}\")\n",
    "print(f\"Null Deviance: {str(summary.nullDeviance)}\")\n",
    "print(\n",
    "    f\"Residual Degree of Freedom Null: {str(summary.residualDegreeOfFreedomNull)}\"\n",
    ")\n",
    "print(f\"Deviance: {str(summary.deviance)}\")\n",
    "print(f\"AIC: {str(summary.aic)}\")\n",
    "print(\"Deviance Residuals: \")\n",
    "summary.residuals().show()"
   ]
  }
 ],
 "metadata": {
  "kernelspec": {
   "display_name": "base",
   "language": "python",
   "name": "python3"
  },
  "language_info": {
   "codemirror_mode": {
    "name": "ipython",
    "version": 3
   },
   "file_extension": ".py",
   "mimetype": "text/x-python",
   "name": "python",
   "nbconvert_exporter": "python",
   "pygments_lexer": "ipython3",
   "version": "3.8.8 (default, Apr 13 2021, 15:08:03) [MSC v.1916 64 bit (AMD64)]"
  },
  "orig_nbformat": 4,
  "vscode": {
   "interpreter": {
    "hash": "a3d1f5a40e83e699fa9d98d411f8d9f4af992d6222f178debd8b0cd072f22c83"
   }
  }
 },
 "nbformat": 4,
 "nbformat_minor": 2
}
